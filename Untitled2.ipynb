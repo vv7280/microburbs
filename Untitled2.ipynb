{
 "cells": [
  {
   "cell_type": "code",
   "execution_count": null,
   "id": "32fc62c0",
   "metadata": {},
   "outputs": [],
   "source": [
    "# This script requires the following libraries to be installed:\n",
    "# folium\n",
    "# pandas\n",
    "\n",
    "# Install required libraries\n",
    "!pip install folium pandas\n",
    "\n",
    "# Import libraries\n",
    "import folium\n",
    "import pandas as pd\n",
    "\n",
    "# Define a DataFrame containing selected locations and their distances\n",
    "data = pd.DataFrame({\n",
    "    \"Location\": [\"North Melbourne\", \"Southbank\", \"Docklands\"],\n",
    "    \"Distance\": [1.8, 3.0, 3.9]  # Distances to Melbourne CBD\n",
    "})\n",
    "\n",
    "# Define map center coordinates\n",
    "latitude = -37.8136\n",
    "longitude = 144.9631\n",
    "\n",
    "# Create a base map\n",
    "m = folium.Map(location=[latitude, longitude], zoom_start=13)\n",
    "\n",
    "# Add markers for each location with a popup that displays the distance\n",
    "for i, row in data.iterrows():\n",
    "    location = row[\"Location\"]\n",
    "    distance = row[\"Distance\"]\n",
    "    popup = folium.Popup(f\"{location}: Distance to Melbourne CBD: {distance} km\")\n",
    "    folium.Marker(\n",
    "        location=[latitude + 0.01 * i, longitude - 0.01 * i],\n",
    "        popup=popup\n",
    "    ).add_to(m)\n",
    "\n",
    "\n",
    "# Save the map\n",
    "map_path = 'melbourne_real_estate_map.html'\n",
    "m.save(map_path)\n",
    "\n",
    "print(\"Map has been created and saved as 'melbourne_real_estate_map.html'.\")\n"
   ]
  },
  {
   "cell_type": "code",
   "execution_count": 2,
   "id": "9756d49c",
   "metadata": {},
   "outputs": [
    {
     "ename": "ModuleNotFoundError",
     "evalue": "No module named 'geopandas'",
     "output_type": "error",
     "traceback": [
      "\u001b[1;31m---------------------------------------------------------------------------\u001b[0m",
      "\u001b[1;31mModuleNotFoundError\u001b[0m                       Traceback (most recent call last)",
      "Cell \u001b[1;32mIn[2], line 2\u001b[0m\n\u001b[0;32m      1\u001b[0m \u001b[38;5;28;01mimport\u001b[39;00m \u001b[38;5;21;01mmatplotlib\u001b[39;00m\u001b[38;5;21;01m.\u001b[39;00m\u001b[38;5;21;01mpyplot\u001b[39;00m \u001b[38;5;28;01mas\u001b[39;00m \u001b[38;5;21;01mplt\u001b[39;00m\n\u001b[1;32m----> 2\u001b[0m \u001b[38;5;28;01mimport\u001b[39;00m \u001b[38;5;21;01mgeopandas\u001b[39;00m \u001b[38;5;28;01mas\u001b[39;00m \u001b[38;5;21;01mgpd\u001b[39;00m\n\u001b[0;32m      3\u001b[0m \u001b[38;5;28;01mfrom\u001b[39;00m \u001b[38;5;21;01mshapely\u001b[39;00m\u001b[38;5;21;01m.\u001b[39;00m\u001b[38;5;21;01mgeometry\u001b[39;00m \u001b[38;5;28;01mimport\u001b[39;00m Point, LineString\n\u001b[0;32m      5\u001b[0m \u001b[38;5;66;03m# Sample coordinates for locations (latitude, longitude)\u001b[39;00m\n",
      "\u001b[1;31mModuleNotFoundError\u001b[0m: No module named 'geopandas'"
     ]
    }
   ],
   "source": [
    "# This script requires the following libraries to be installed:\n",
    "# folium\n",
    "# pandas\n",
    "\n",
    "# Install required libraries\n",
    "!pip install folium pandas\n",
    "\n",
    "# Import libraries\n",
    "import folium\n",
    "import pandas as pd\n",
    "\n",
    "# Define a DataFrame containing selected locations and their distances\n",
    "data = pd.DataFrame({\n",
    "    \"Location\": [\"North Melbourne\", \"Southbank\", \"Docklands\"],\n",
    "    \"Distance\": [1.8, 3.0, 3.9]  # Distances to Melbourne CBD\n",
    "})\n",
    "\n",
    "# Define map center coordinates\n",
    "latitude = -37.8136\n",
    "longitude = 144.9631\n",
    "\n",
    "# Create a base map\n",
    "m = folium.Map(location=[latitude, longitude], zoom_start=13)\n",
    "\n",
    "# Add markers for each location with a popup that displays the distance\n",
    "for i, row in data.iterrows():\n",
    "    location = row[\"Location\"]\n",
    "    distance = row[\"Distance\"]\n",
    "    popup = folium.Popup(f\"{location}: Distance to Melbourne CBD: {distance} km\")\n",
    "    folium.Marker(\n",
    "        location=[latitude + 0.01 * i, longitude - 0.01 * i],\n",
    "        popup=popup\n",
    "    ).add_to(m)\n",
    "\n",
    "# Display the map\n",
    "m\n"
   ]
  },
  {
   "cell_type": "code",
   "execution_count": null,
   "id": "cf2ac86b",
   "metadata": {},
   "outputs": [],
   "source": []
  }
 ],
 "metadata": {
  "kernelspec": {
   "display_name": "Python 3 (ipykernel)",
   "language": "python",
   "name": "python3"
  },
  "language_info": {
   "codemirror_mode": {
    "name": "ipython",
    "version": 3
   },
   "file_extension": ".py",
   "mimetype": "text/x-python",
   "name": "python",
   "nbconvert_exporter": "python",
   "pygments_lexer": "ipython3",
   "version": "3.11.5"
  }
 },
 "nbformat": 4,
 "nbformat_minor": 5
}
